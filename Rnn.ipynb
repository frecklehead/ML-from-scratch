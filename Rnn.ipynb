{
  "cells": [
    {
      "cell_type": "markdown",
      "metadata": {
        "id": "view-in-github",
        "colab_type": "text"
      },
      "source": [
        "<a href=\"https://colab.research.google.com/github/frecklehead/ML-from-scratch/blob/master/Rnn.ipynb\" target=\"_parent\"><img src=\"https://colab.research.google.com/assets/colab-badge.svg\" alt=\"Open In Colab\"/></a>"
      ]
    },
    {
      "cell_type": "code",
      "source": [
        "import numpy as np\n",
        "\n",
        "class SimpleRNN:\n",
        "    def __init__(self, input_size, hidden_size, output_size):\n",
        "        self.hidden_size = hidden_size\n",
        "\n",
        "        self.U = np.random.randn(hidden_size, input_size) * 0.01\n",
        "        self.W = np.random.randn(hidden_size, hidden_size) * 0.01\n",
        "        self.V = np.random.randn(output_size, hidden_size) * 0.01\n",
        "\n",
        "        self.bh = np.zeros((hidden_size, 1))\n",
        "        self.bo = np.zeros((output_size, 1))\n",
        "\n",
        "    def forward(self, inputs):\n",
        "        h = np.zeros((self.hidden_size, 1))\n",
        "        self.last_inputs = inputs\n",
        "        self.last_hs = {0: h}\n",
        "\n",
        "        for i, x in enumerate(inputs):\n",
        "            h = np.tanh(self.U @ x + self.W @ h + self.bh)\n",
        "            self.last_hs[i + 1] = h\n",
        "\n",
        "        o = self.V @ h + self.bo\n",
        "        return o\n",
        "\n",
        "    def backward(self, d_L_d_y, learn_rate=0.001):\n",
        "        n = len(self.last_inputs)\n",
        "        d_V = d_L_d_y @ self.last_hs[n].T\n",
        "        d_bo = d_L_d_y\n",
        "\n",
        "        d_h = self.V.T @ d_L_d_y\n",
        "        d_U = np.zeros_like(self.U)\n",
        "        d_W = np.zeros_like(self.W)\n",
        "        d_bh = np.zeros_like(self.bh)\n",
        "\n",
        "        for t in reversed(range(n)):\n",
        "            temp = ((1 - self.last_hs[t + 1] ** 2) * d_h)\n",
        "            d_bh += temp\n",
        "            d_U += temp @ self.last_inputs[t].T\n",
        "            d_W += temp @ self.last_hs[t].T\n",
        "            d_h = self.W.T @ temp\n",
        "\n",
        "        self.U -= learn_rate * d_U\n",
        "        self.W -= learn_rate * d_W\n",
        "        self.V -= learn_rate * d_V\n",
        "        self.bh -= learn_rate * d_bh\n",
        "        self.bo -= learn_rate * d_bo\n",
        "\n",
        "def loss_fn(y_pred, y_true):\n",
        "    return np.mean((y_pred - y_true) ** 2)\n",
        "\n",
        "def d_loss_fn(y_pred, y_true):\n",
        "    return 2 * (y_pred - y_true) / y_true.size\n",
        "\n",
        "# Example usage\n",
        "input_size = 2\n",
        "hidden_size = 3\n",
        "output_size = 1\n",
        "\n",
        "rnn = SimpleRNN(input_size, hidden_size, output_size)\n",
        "inputs = [np.random.randn(input_size, 1) for _ in range(5)]\n",
        "target = np.random.randn(output_size, 1)\n",
        "\n",
        "output = rnn.forward(inputs)\n",
        "loss = loss_fn(output, target)\n",
        "d_L_d_y = d_loss_fn(output, target)\n",
        "rnn.backward(d_L_d_y)\n"
      ],
      "metadata": {
        "id": "3CEnla90WiRn"
      },
      "execution_count": null,
      "outputs": []
    }
  ],
  "metadata": {
    "colab": {
      "provenance": [],
      "gpuType": "T4",
      "authorship_tag": "ABX9TyMq5VnXGPKwe9/Qtv00PbbC",
      "include_colab_link": true
    },
    "kernelspec": {
      "display_name": "Python 3",
      "name": "python3"
    },
    "language_info": {
      "name": "python"
    },
    "accelerator": "GPU"
  },
  "nbformat": 4,
  "nbformat_minor": 0
}